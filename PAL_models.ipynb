{
 "cells": [
  {
   "cell_type": "code",
   "execution_count": 5,
   "metadata": {},
   "outputs": [
    {
     "name": "stderr",
     "output_type": "stream",
     "text": [
      "c:\\Users\\User\\AppData\\Local\\Programs\\Python\\Python311\\Lib\\site-packages\\langchain\\llms\\openai.py:173: UserWarning: You are trying to use a chat model. This way of initializing it is no longer supported. Instead, please use: `from langchain.chat_models import ChatOpenAI`\n",
      "  warnings.warn(\n",
      "c:\\Users\\User\\AppData\\Local\\Programs\\Python\\Python311\\Lib\\site-packages\\langchain\\llms\\openai.py:753: UserWarning: You are trying to use a chat model. This way of initializing it is no longer supported. Instead, please use: `from langchain.chat_models import ChatOpenAI`\n",
      "  warnings.warn(\n"
     ]
    },
    {
     "name": "stdout",
     "output_type": "stream",
     "text": [
      "\n",
      "\n",
      "\u001b[1m> Entering new  chain...\u001b[0m\n",
      "\u001b[32;1m\u001b[1;3mdef solution():\n",
      "    \"\"\"The cafeteria had 23 apples. If they used 20 for lunch and bought 6 more, how many apples do they have?\"\"\"\n",
      "    apples_initial = 23\n",
      "    apples_used = 20\n",
      "    apples_bought = 6\n",
      "    apples_left = apples_initial - apples_used + apples_bought\n",
      "    result = apples_left\n",
      "    return result\u001b[0m\n",
      "\n",
      "\u001b[1m> Finished chain.\u001b[0m\n"
     ]
    },
    {
     "data": {
      "text/plain": [
       "'9'"
      ]
     },
     "execution_count": 5,
     "metadata": {},
     "output_type": "execute_result"
    }
   ],
   "source": [
    "import os\n",
    "from langchain.chains import PALChain\n",
    "from langchain import OpenAI\n",
    "from langchain.chains.llm import LLMChain\n",
    "\n",
    "llm = OpenAI(model_name='gpt-3.5-turbo', temperature=0, max_tokens=512)\n",
    "\n",
    "pal_chain = PALChain.from_math_prompt(llm, verbose=True)\n",
    "\n",
    "question = \"\"\"\n",
    "The cafeteria had 23 apples. If they used 20 for lunch and bought 6 more, how many apples do they have?\n",
    "\"\"\"\n",
    "\n",
    "pal_chain.run(question)"
   ]
  },
  {
   "cell_type": "code",
   "execution_count": 8,
   "metadata": {},
   "outputs": [
    {
     "name": "stdout",
     "output_type": "stream",
     "text": [
      "Q: Olivia has $23. She bought five bagels for $3 each. How much money does she have left?\n",
      "\n",
      "# solution in Python:\n",
      "\n",
      "\n",
      "def solution():\n",
      "    \"\"\"Olivia has $23. She bought five bagels for $3 each. How much money does she have left?\"\"\"\n",
      "    money_initial = 23\n",
      "    bagels = 5\n",
      "    bagel_cost = 3\n",
      "    money_spent = bagels * bagel_cost\n",
      "    money_left = money_initial - money_spent\n",
      "    result = money_left\n",
      "    return result\n",
      "\n",
      "\n",
      "\n",
      "\n",
      "\n",
      "Q: Michael had 58 golf balls. On tuesday, he lost 23 golf balls. On wednesday, he lost 2 more. How many golf balls did he have at the end of wednesday?\n",
      "\n",
      "# solution in Python:\n",
      "\n",
      "\n",
      "def solution():\n",
      "    \"\"\"Michael had 58 golf balls. On tuesday, he lost 23 golf balls. On wednesday, he lost 2 more. How many golf balls did he have at the end of wednesday?\"\"\"\n",
      "    golf_balls_initial = 58\n",
      "    golf_balls_lost_tuesday = 23\n",
      "    golf_balls_lost_wednesday = 2\n",
      "    golf_balls_left = golf_balls_initial - golf_balls_lost_tuesday - golf_balls_lost_wednesday\n",
      "    result = golf_balls_left\n",
      "    return result\n",
      "\n",
      "\n",
      "\n",
      "\n",
      "\n",
      "Q: There were nine computers in the server room. Five more computers were installed each day, from monday to thursday. How many computers are now in the server room?\n",
      "\n",
      "# solution in Python:\n",
      "\n",
      "\n",
      "def solution():\n",
      "    \"\"\"There were nine computers in the server room. Five more computers were installed each day, from monday to thursday. How many computers are now in the server room?\"\"\"\n",
      "    computers_initial = 9\n",
      "    computers_per_day = 5\n",
      "    num_days = 4  # 4 days between monday and thursday\n",
      "    computers_added = computers_per_day * num_days\n",
      "    computers_total = computers_initial + computers_added\n",
      "    result = computers_total\n",
      "    return result\n",
      "\n",
      "\n",
      "\n",
      "\n",
      "\n",
      "Q: Shawn has five toys. For Christmas, he got two toys each from his mom and dad. How many toys does he have now?\n",
      "\n",
      "# solution in Python:\n",
      "\n",
      "\n",
      "def solution():\n",
      "    \"\"\"Shawn has five toys. For Christmas, he got two toys each from his mom and dad. How many toys does he have now?\"\"\"\n",
      "    toys_initial = 5\n",
      "    mom_toys = 2\n",
      "    dad_toys = 2\n",
      "    total_received = mom_toys + dad_toys\n",
      "    total_toys = toys_initial + total_received\n",
      "    result = total_toys\n",
      "    return result\n",
      "\n",
      "\n",
      "\n",
      "\n",
      "\n",
      "Q: Jason had 20 lollipops. He gave Denny some lollipops. Now Jason has 12 lollipops. How many lollipops did Jason give to Denny?\n",
      "\n",
      "# solution in Python:\n",
      "\n",
      "\n",
      "def solution():\n",
      "    \"\"\"Jason had 20 lollipops. He gave Denny some lollipops. Now Jason has 12 lollipops. How many lollipops did Jason give to Denny?\"\"\"\n",
      "    jason_lollipops_initial = 20\n",
      "    jason_lollipops_after = 12\n",
      "    denny_lollipops = jason_lollipops_initial - jason_lollipops_after\n",
      "    result = denny_lollipops\n",
      "    return result\n",
      "\n",
      "\n",
      "\n",
      "\n",
      "\n",
      "Q: Leah had 32 chocolates and her sister had 42. If they ate 35, how many pieces do they have left in total?\n",
      "\n",
      "# solution in Python:\n",
      "\n",
      "\n",
      "def solution():\n",
      "    \"\"\"Leah had 32 chocolates and her sister had 42. If they ate 35, how many pieces do they have left in total?\"\"\"\n",
      "    leah_chocolates = 32\n",
      "    sister_chocolates = 42\n",
      "    total_chocolates = leah_chocolates + sister_chocolates\n",
      "    chocolates_eaten = 35\n",
      "    chocolates_left = total_chocolates - chocolates_eaten\n",
      "    result = chocolates_left\n",
      "    return result\n",
      "\n",
      "\n",
      "\n",
      "\n",
      "\n",
      "Q: If there are 3 cars in the parking lot and 2 more cars arrive, how many cars are in the parking lot?\n",
      "\n",
      "# solution in Python:\n",
      "\n",
      "\n",
      "def solution():\n",
      "    \"\"\"If there are 3 cars in the parking lot and 2 more cars arrive, how many cars are in the parking lot?\"\"\"\n",
      "    cars_initial = 3\n",
      "    cars_arrived = 2\n",
      "    total_cars = cars_initial + cars_arrived\n",
      "    result = total_cars\n",
      "    return result\n",
      "\n",
      "\n",
      "\n",
      "\n",
      "\n",
      "Q: There are 15 trees in the grove. Grove workers will plant trees in the grove today. After they are done, there will be 21 trees. How many trees did the grove workers plant today?\n",
      "\n",
      "# solution in Python:\n",
      "\n",
      "\n",
      "def solution():\n",
      "    \"\"\"There are 15 trees in the grove. Grove workers will plant trees in the grove today. After they are done, there will be 21 trees. How many trees did the grove workers plant today?\"\"\"\n",
      "    trees_initial = 15\n",
      "    trees_after = 21\n",
      "    trees_added = trees_after - trees_initial\n",
      "    result = trees_added\n",
      "    return result\n",
      "\n",
      "\n",
      "\n",
      "\n",
      "\n",
      "Q: {question}\n",
      "\n",
      "# solution in Python:\n",
      "\n",
      "\n",
      "\n"
     ]
    }
   ],
   "source": [
    "print(pal_chain.prompt.template)"
   ]
  },
  {
   "cell_type": "code",
   "execution_count": 9,
   "metadata": {},
   "outputs": [
    {
     "name": "stdout",
     "output_type": "stream",
     "text": [
      "\n",
      "\n",
      "\u001b[1m> Entering new  chain...\u001b[0m\n",
      "\u001b[32;1m\u001b[1;3mdef solution():\n",
      "    \"\"\"John buys twice as many red ties as blue ties. The red ties cost 50% more than blue ties. He spent $200 on blue ties that cost $40 each. How much did he spend on ties?\"\"\"\n",
      "    blue_ties = 200 / 40\n",
      "    red_ties = 2 * blue_ties\n",
      "    total_ties = blue_ties + red_ties\n",
      "    blue_tie_cost = 40\n",
      "    red_tie_cost = blue_tie_cost * 1.5\n",
      "    total_cost = (blue_ties * blue_tie_cost) + (red_ties * red_tie_cost)\n",
      "    result = total_cost\n",
      "    return result\u001b[0m\n",
      "\n",
      "\u001b[1m> Finished chain.\u001b[0m\n"
     ]
    },
    {
     "data": {
      "text/plain": [
       "'800.0'"
      ]
     },
     "execution_count": 9,
     "metadata": {},
     "output_type": "execute_result"
    }
   ],
   "source": [
    "question = \"John buys twice as many red ties as blue ties. The red ties cost 50% more than blue ties. \\\n",
    "He spent $200 on blue ties that cost $40 each. How much did he spend on ties?\"\n",
    "\n",
    "pal_chain.run(question)"
   ]
  },
  {
   "cell_type": "code",
   "execution_count": 11,
   "metadata": {},
   "outputs": [
    {
     "name": "stdout",
     "output_type": "stream",
     "text": [
      "\n",
      "\n",
      "\u001b[1m> Entering new  chain...\u001b[0m\n",
      "\u001b[32;1m\u001b[1;3mdef solution():\n",
      "    \"\"\"Say the letters of the alphabet in capital letters, but only the odd ones\"\"\"\n",
      "    alphabet = \"ABCDEFGHIJKLMNOPQRSTUVWXYZ\"\n",
      "    odd_letters = alphabet[::2]\n",
      "    result = odd_letters\n",
      "    return result\u001b[0m\n",
      "\n",
      "\u001b[1m> Finished chain.\u001b[0m\n"
     ]
    },
    {
     "data": {
      "text/plain": [
       "'ACEGIKMOQSUWY'"
      ]
     },
     "execution_count": 11,
     "metadata": {},
     "output_type": "execute_result"
    }
   ],
   "source": [
    "question = 'Say the letters of the alphabet in capital letters, but only the odd ones'\n",
    "\n",
    "pal_chain.run(question)"
   ]
  },
  {
   "cell_type": "code",
   "execution_count": 12,
   "metadata": {},
   "outputs": [
    {
     "name": "stdout",
     "output_type": "stream",
     "text": [
      "\n",
      "\n",
      "\u001b[1m> Entering new  chain...\u001b[0m\n",
      "\u001b[32;1m\u001b[1;3mdef solution():\n",
      "    \"\"\"If you have 80 tickets for the fair and each ride costs 5 tickets, how many rides can you go on?\"\"\"\n",
      "    tickets_initial = 80\n",
      "    tickets_per_ride = 5\n",
      "    num_rides = tickets_initial // tickets_per_ride\n",
      "    result = num_rides\n",
      "    return result\u001b[0m\n",
      "\n",
      "\u001b[1m> Finished chain.\u001b[0m\n"
     ]
    },
    {
     "data": {
      "text/plain": [
       "'16'"
      ]
     },
     "execution_count": 12,
     "metadata": {},
     "output_type": "execute_result"
    }
   ],
   "source": [
    "question = 'If you have 80 tickets for the fair and each ride costs 5 tickets, how many rides can you go on?'\n",
    "pal_chain.run(question)"
   ]
  },
  {
   "cell_type": "code",
   "execution_count": 13,
   "metadata": {},
   "outputs": [
    {
     "name": "stdout",
     "output_type": "stream",
     "text": [
      "\n",
      "\n",
      "\u001b[1m> Entering new  chain...\u001b[0m\n",
      "\u001b[32;1m\u001b[1;3mdef solution():\n",
      "    \"\"\"An Italian restaurant receives a shipment of 86 veal cutlets. If it takes 3 cutlets to make a dish, how many cutlets will the restaurant have left over after making as many dishes as possible?\"\"\"\n",
      "    cutlets_received = 86\n",
      "    cutlets_per_dish = 3\n",
      "    num_dishes = cutlets_received // cutlets_per_dish\n",
      "    cutlets_leftover = cutlets_received - (num_dishes * cutlets_per_dish)\n",
      "    result = cutlets_leftover\n",
      "    return result\u001b[0m\n",
      "\n",
      "\u001b[1m> Finished chain.\u001b[0m\n"
     ]
    },
    {
     "data": {
      "text/plain": [
       "'2'"
      ]
     },
     "execution_count": 13,
     "metadata": {},
     "output_type": "execute_result"
    }
   ],
   "source": [
    "question = 'An Italian restaurant receives a shipment of 86 veal cutlets. If it takes 3 cutlets to make a dish, \\\n",
    "how many cutlets will the restaurant have left over after making as many dishes as possible?'\n",
    "\n",
    "pal_chain.run(question)"
   ]
  },
  {
   "cell_type": "code",
   "execution_count": 14,
   "metadata": {},
   "outputs": [
    {
     "name": "stdout",
     "output_type": "stream",
     "text": [
      "\n",
      "\n",
      "\u001b[1m> Entering new  chain...\u001b[0m\n",
      "\u001b[32;1m\u001b[1;3mdef solution():\n",
      "    \"\"\"There are 235 books in a library. On Monday, 123 books are taken out. On Tuesday, 56 books are brought back. How many books are there now?\"\"\"\n",
      "    books_initial = 235\n",
      "    books_taken_out_monday = 123\n",
      "    books_brought_back_tuesday = 56\n",
      "    books_left = books_initial - books_taken_out_monday + books_brought_back_tuesday\n",
      "    result = books_left\n",
      "    return result\u001b[0m\n",
      "\n",
      "\u001b[1m> Finished chain.\u001b[0m\n"
     ]
    },
    {
     "data": {
      "text/plain": [
       "'168'"
      ]
     },
     "execution_count": 14,
     "metadata": {},
     "output_type": "execute_result"
    }
   ],
   "source": [
    "question = 'There are 235 books in a library. On Monday, 123 books are taken out. On Tuesday, 56 books are brought back. How many books are there now?'\n",
    "\n",
    "pal_chain.run(question)"
   ]
  },
  {
   "cell_type": "code",
   "execution_count": 15,
   "metadata": {},
   "outputs": [
    {
     "name": "stdout",
     "output_type": "stream",
     "text": [
      "\n",
      "\n",
      "\u001b[1m> Entering new  chain...\u001b[0m\n",
      "\u001b[32;1m\u001b[1;3mdef solution():\n",
      "    \"\"\"The school’s junior band has 10 saxophone players and 20 trumpet players. The school’s senior band has 18 saxophone players and 29 trumpet players. Which band has the higher ratio of trumpet to saxophone players?\"\"\"\n",
      "    junior_saxophones = 10\n",
      "    junior_trumpets = 20\n",
      "    senior_saxophones = 18\n",
      "    senior_trumpets = 29\n",
      "    junior_ratio = junior_trumpets / junior_saxophones\n",
      "    senior_ratio = senior_trumpets / senior_saxophones\n",
      "    if junior_ratio > senior_ratio:\n",
      "        result = \"Junior band\"\n",
      "    elif senior_ratio > junior_ratio:\n",
      "        result = \"Senior band\"\n",
      "    else:\n",
      "        result = \"Both bands have the same ratio\"\n",
      "    return result\u001b[0m\n",
      "\n",
      "\u001b[1m> Finished chain.\u001b[0m\n"
     ]
    },
    {
     "data": {
      "text/plain": [
       "'Junior band'"
      ]
     },
     "execution_count": 15,
     "metadata": {},
     "output_type": "execute_result"
    }
   ],
   "source": [
    "question = \"The school’s junior band has 10 saxophone players and 20 trumpet players. \\\n",
    " The school’s senior band has 18 saxophone players and 29 trumpet players. \\\n",
    "Which band has the higher ratio of trumpet to saxophone players?\"\n",
    "\n",
    "pal_chain.run(question)"
   ]
  },
  {
   "cell_type": "code",
   "execution_count": 16,
   "metadata": {},
   "outputs": [
    {
     "name": "stdout",
     "output_type": "stream",
     "text": [
      "\n",
      "\n",
      "\u001b[1m> Entering new  chain...\u001b[0m\n",
      "\u001b[32;1m\u001b[1;3mdef solution():\n",
      "    \"\"\"If you wake up at 7:00 a.m. and it takes you 1 hour and 30 minutes to get ready and walk to school, at what time will you get to school?\"\"\"\n",
      "    wake_up_time = \"7:00\"\n",
      "    get_ready_time = \"1:30\"\n",
      "    get_ready_hours = int(get_ready_time.split(\":\")[0])\n",
      "    get_ready_minutes = int(get_ready_time.split(\":\")[1])\n",
      "    total_minutes = get_ready_hours * 60 + get_ready_minutes\n",
      "    arrival_time = (int(wake_up_time.split(\":\")[0]) + total_minutes // 60) % 24\n",
      "    arrival_minutes = total_minutes % 60\n",
      "    result = f\"{arrival_time:02d}:{arrival_minutes:02d}\"\n",
      "    return result\u001b[0m\n",
      "\n",
      "\u001b[1m> Finished chain.\u001b[0m\n"
     ]
    },
    {
     "data": {
      "text/plain": [
       "'08:30'"
      ]
     },
     "execution_count": 16,
     "metadata": {},
     "output_type": "execute_result"
    }
   ],
   "source": [
    "question = \"If you wake up at 7:00 a.m. and it takes you 1 hour and 30 minutes to get ready and walk to school, at what time will you get to school?\"\n",
    "\n",
    "pal_chain.run(question)"
   ]
  },
  {
   "cell_type": "code",
   "execution_count": 17,
   "metadata": {},
   "outputs": [
    {
     "name": "stdout",
     "output_type": "stream",
     "text": [
      "\n",
      "\n",
      "\u001b[1m> Entering new  chain...\u001b[0m\n",
      "\u001b[32;1m\u001b[1;3mdef solution():\n",
      "    \"\"\"The ratio of Jenny’s trophies to Meredith’s trophies is 7:4. The difference between the numbers is 12. What are the numbers?\"\"\"\n",
      "    ratio = 7 / 4\n",
      "    difference = 12\n",
      "    jenny_trophies = (difference * ratio) / (ratio + 1)\n",
      "    meredith_trophies = difference - jenny_trophies\n",
      "    result = (jenny_trophies, meredith_trophies)\n",
      "    return result\u001b[0m\n",
      "\n",
      "\u001b[1m> Finished chain.\u001b[0m\n"
     ]
    },
    {
     "data": {
      "text/plain": [
       "'(7.636363636363637, 4.363636363636363)'"
      ]
     },
     "execution_count": 17,
     "metadata": {},
     "output_type": "execute_result"
    }
   ],
   "source": [
    "question = \"The ratio of Jenny’s trophies to Meredith’s trophies is 7:4.\\\n",
    " The difference between the numbers is 12. What are the numbers?\"\n",
    "\n",
    "pal_chain.run(question)"
   ]
  },
  {
   "cell_type": "code",
   "execution_count": 19,
   "metadata": {},
   "outputs": [
    {
     "name": "stdout",
     "output_type": "stream",
     "text": [
      "\n",
      "\n",
      "\u001b[1m> Entering new  chain...\u001b[0m\n",
      "\u001b[32;1m\u001b[1;3m# Put objects into a list to record the number of each item\n",
      "objects = []\n",
      "objects += [('blue booklet', 2)] * 2\n",
      "objects += [('purple booklet', 2)] * 2\n",
      "objects += [('purple hat', 1)] * 1\n",
      "objects += [('yellow sunglasses', 2)] * 2\n",
      "\n",
      "# Remove all pairs of sunglasses from the desk\n",
      "objects = [object for object in objects if 'sunglasses' not in object[0]]\n",
      "\n",
      "# Count the number of purple items remaining\n",
      "purple_items = [object for object in objects if 'purple' in object[0]]\n",
      "num_purple_items = sum([item[1] for item in purple_items])\n",
      "answer = num_purple_items\u001b[0m\n",
      "\n",
      "\u001b[1m> Finished chain.\u001b[0m\n"
     ]
    },
    {
     "data": {
      "text/plain": [
       "'5'"
      ]
     },
     "execution_count": 19,
     "metadata": {},
     "output_type": "execute_result"
    }
   ],
   "source": [
    "pal_chain = PALChain.from_colored_object_prompt(llm, verbose=True)\n",
    "\n",
    "question = \"On the desk, you see two blue booklets, two purple booklets, 1 purple hat \\\n",
    "and two yellow pairs of sunglasses.\\\n",
    " If I remove all the pairs of sunglasses from the desk, how many purple items remain on it?\"\n",
    "\n",
    "pal_chain.run(question)"
   ]
  },
  {
   "cell_type": "code",
   "execution_count": null,
   "metadata": {},
   "outputs": [],
   "source": []
  },
  {
   "cell_type": "code",
   "execution_count": null,
   "metadata": {},
   "outputs": [],
   "source": []
  },
  {
   "cell_type": "code",
   "execution_count": null,
   "metadata": {},
   "outputs": [],
   "source": []
  },
  {
   "cell_type": "code",
   "execution_count": null,
   "metadata": {},
   "outputs": [],
   "source": []
  }
 ],
 "metadata": {
  "kernelspec": {
   "display_name": "Python 3",
   "language": "python",
   "name": "python3"
  },
  "language_info": {
   "codemirror_mode": {
    "name": "ipython",
    "version": 3
   },
   "file_extension": ".py",
   "mimetype": "text/x-python",
   "name": "python",
   "nbconvert_exporter": "python",
   "pygments_lexer": "ipython3",
   "version": "3.11.4"
  }
 },
 "nbformat": 4,
 "nbformat_minor": 2
}
