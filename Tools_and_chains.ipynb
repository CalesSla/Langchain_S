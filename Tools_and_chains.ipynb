{
 "cells": [
  {
   "cell_type": "code",
   "execution_count": 6,
   "metadata": {},
   "outputs": [
    {
     "name": "stdout",
     "output_type": "stream",
     "text": [
      "\n",
      "1. Coinbase released its Q4 2022 earnings on Tuesday. \n",
      "2. Coinbase generated $605 million in total revenue in Q4 2022. \n",
      "3. Coinbase lost $557 million in the three-month period on a GAAP basis. \n",
      "4. Wall Street expected Coinbase to report $581.2 million in revenue and earnings per share of -$2.44. \n",
      "5. Coinbase's stock had risen 86% year-to-date before its Q4 earnings were released. \n",
      "6. Consumer trading volumes fell from $26 billion in the third quarter of last year to $20 billion in Q4. \n",
      "7. Institutional volumes across the same timeframe fell from $133 billion to $125 billion. \n",
      "8. The overall crypto market capitalization fell about 64%, or $1.5 trillion during 2022. \n",
      "9. Coinbase's total trading volumes and transaction revenues fell 50% and 66% year-over-year, respectively. \n",
      "10. Trading revenue at Coinbase fell in Q4 compared to the third quarter of last year, dipping from $365.9 million to $322.1 million. \n",
      "11. Coinbase's \"subscription and services revenue\" rose from $210.5 million in\n"
     ]
    }
   ],
   "source": [
    "from langchain.prompts import PromptTemplate\n",
    "from langchain.llms import OpenAI\n",
    "from langchain.chains import LLMChain\n",
    "\n",
    "llm = OpenAI(model_name='text-davinci-003', temperature=0, max_tokens=256)\n",
    "\n",
    "article = '''Coinbase, the second-largest crypto exchange by trading volume, released its Q4 2022 earnings on Tuesday, giving shareholders and market players alike an updated look into its financials. In response to the report, the company's shares are down modestly in early after-hours trading.In the fourth quarter of 2022, Coinbase generated $605 million in total revenue, down sharply from $2.49 billion in the year-ago quarter. Coinbase's top line was not enough to cover its expenses: The company lost $557 million in the three-month period on a GAAP basis (net income) worth -$2.46 per share, and an adjusted EBITDA deficit of $124 million.Wall Street expected Coinbase to report $581.2 million in revenue and earnings per share of -$2.44 with adjusted EBITDA of -$201.8 million driven by 8.4 million monthly transaction users (MTUs), according to data provided by Yahoo Finance.Before its Q4 earnings were released, Coinbase's stock had risen 86% year-to-date. Even with that rally, the value of Coinbase when measured on a per-share basis is still down significantly from its 52-week high of $206.79.That Coinbase beat revenue expectations is notable in that it came with declines in trading volume; Coinbase historically generated the bulk of its revenues from trading fees, making Q4 2022 notable. Consumer trading volumes fell from $26 billion in the third quarter of last year to $20 billion in Q4, while institutional volumes across the same timeframe fell from $133 billion to $125 billion.The overall crypto market capitalization fell about 64%, or $1.5 trillion during 2022, which resulted in Coinbase's total trading volumes and transaction revenues to fall 50% and 66% year-over-year, respectively, the company reported.As you would expect with declines in trading volume, trading revenue at Coinbase fell in Q4 compared to the third quarter of last year, dipping from $365.9 million to $322.1 million. (TechCrunch is comparing Coinbase's Q4 2022 results to Q3 2022 instead of Q4 2021, as the latter comparison would be less useful given how much the crypto market has changed in the last year; we're all aware that overall crypto activity has fallen from the final months of 2021.)There were bits of good news in the Coinbase report. While Coinbase's trading revenues were less than exuberant, the company's other revenues posted gains. What Coinbase calls its \"subscription and services revenue\" rose from $210.5 million in Q3 2022 to $282.8 million in Q4 of the same year, a gain of just over 34% in a single quarter.And even as the crypto industry faced a number of catastrophic events, including the Terra/LUNA and FTX collapses to name a few, there was still growth in other areas. The monthly active developers in crypto have more than doubled since 2020 to over 20,000, while major brands like Starbucks, Nike and Adidas have dived into the space alongside social media platforms like Instagram and Reddit.With big players getting into crypto, industry players are hoping this move results in greater adoption both for product use cases and trading volumes. Although there was a lot of movement from traditional retail markets and Web 2.0 businesses, trading volume for both consumer and institutional users fell quarter-over-quarter for Coinbase.Looking forward, it'll be interesting to see if these pieces pick back up and trading interest reemerges in 2023, or if platforms like Coinbase will have to keep looking elsewhere for revenue (like its subscription service) if users continue to shy away from the market.\n",
    "'''\n",
    "\n",
    "fact_extraction_prompt = PromptTemplate(input_variables=['text_input'],\n",
    "                                        template = 'Extract the key facts of this text. Do not include opinions. Give each fact a number and keep them short sentences. :\\n\\n {text_input}')\n",
    "\n",
    "fact_extraction_chain = LLMChain(llm = llm, prompt = fact_extraction_prompt)\n",
    "facts = fact_extraction_chain.run(article)\n",
    "\n",
    "print(facts)"
   ]
  },
  {
   "cell_type": "code",
   "execution_count": 5,
   "metadata": {},
   "outputs": [
    {
     "name": "stdout",
     "output_type": "stream",
     "text": [
      "1. Coinbase released its Q4 2022 earnings, revealing $605 million in total revenue.\n",
      "2. Coinbase's revenue was significantly lower compared to the year-ago quarter.\n",
      "3. The company incurred a net loss of $557 million in the fourth quarter.\n",
      "4. Wall Street expected lower revenue and earnings per share for Coinbase.\n",
      "5. Coinbase's stock had risen 86% year-to-date before the earnings release.\n",
      "6. Coinbase beat revenue expectations despite a decline in trading volume.\n",
      "7. Consumer and institutional trading volumes decreased in Q4 compared to the previous quarter.\n",
      "8. The overall crypto market capitalization fell by $1.5 trillion in 2022.\n",
      "9. Coinbase's trading revenue decreased in Q4 compared to Q3 2022.\n",
      "10. Coinbase's \"subscription and services revenue\" increased by over 34% in Q4.\n",
      "11. The number of monthly active developers in crypto has more than doubled since 2020.\n",
      "12. Major brands and social media platforms have entered the crypto space.\n",
      "13. Trading volume for both consumer and institutional users decreased quarter-over-quarter for Coinbase.\n",
      "14. The future trading interest and revenue generation for Coinbase remain uncertain.\n"
     ]
    }
   ],
   "source": [
    "from langchain.llms import OpenAI\n",
    "from langchain.chat_models import ChatOpenAI\n",
    "from langchain.prompts.chat import HumanMessagePromptTemplate\n",
    "from langchain.schema import HumanMessage\n",
    "\n",
    "llm = ChatOpenAI(model_name = 'gpt-3.5-turbo',\n",
    "             temperature=0,\n",
    "             max_tokens=256)\n",
    "\n",
    "fact_extraction_prompt = PromptTemplate(input_variables=['text_input'],\n",
    "                                        template = 'Extract the key facts of this text. Do not include opinions. Give each fact a number and keep them short sentences. :\\n\\n {text_input}')\n",
    "\n",
    "fact_extraction_chain = LLMChain(llm = llm, prompt = fact_extraction_prompt)\n",
    "facts = fact_extraction_chain.run(article)\n",
    "print(facts)"
   ]
  },
  {
   "cell_type": "code",
   "execution_count": 7,
   "metadata": {},
   "outputs": [
    {
     "name": "stdout",
     "output_type": "stream",
     "text": [
      " Q3 to $282.9 million in Q4.\n",
      "\n",
      "Coinbase released its Q4 2022 earnings on Tuesday, reporting total revenue of $605 million and a GAAP loss of $557 million. Wall Street had expected Coinbase to report $581.2 million in revenue and earnings per share of -$2.44. Despite the losses, Coinbase's stock had risen 86% year-to-date before its Q4 earnings were released. Consumer trading volumes fell from $26 billion in the third quarter of last year to $20 billion in Q4, while institutional volumes across the same timeframe fell from $133 billion to $125 billion. The overall crypto market capitalization fell about 64%, or $1.5 trillion during 2022, leading to a 50% and 66% year-over-year decrease in Coinbase's total trading volumes and transaction revenues, respectively. Trading revenue at Coinbase fell in Q4 compared to the third quarter of last year, dipping from $365.9 million to $322.1 million. However, Coinbase's \"subscription and services revenue\" rose from $210.5 million in Q3 to $282.9 million in Q4.\n"
     ]
    }
   ],
   "source": [
    "investor_update_prompt = PromptTemplate(input_variables=['facts'], template = 'You are a Goldman Sachs analyst. Take the following list of facts and use them to write a short paragraph for investors. Do not leave out key info:\\n\\n {facts}')\n",
    "\n",
    "investor_update_chain = LLMChain(llm=llm, prompt = investor_update_prompt)\n",
    "investor_update = investor_update_chain.run(facts)\n",
    "\n",
    "print(investor_update)"
   ]
  },
  {
   "cell_type": "code",
   "execution_count": 8,
   "metadata": {},
   "outputs": [
    {
     "name": "stdout",
     "output_type": "stream",
     "text": [
      " Q3 to $283 million in Q4.\n",
      "\n",
      "Triples: \n",
      "1. (Coinbase, released, Q4 2022 earnings) \n",
      "2. (Coinbase, generated, $605 million) \n",
      "3. (Coinbase, lost, $557 million) \n",
      "4. (Wall Street, expected, $581.2 million revenue) \n",
      "5. (Coinbase, stock, 86% year-to-date) \n",
      "6. (Consumer trading volumes, fell, $26 billion) \n",
      "7. (Institutional volumes, fell, $133 billion) \n",
      "8. (Overall crypto market capitalization, fell, $1.5 trillion) \n",
      "9. (Coinbase, total trading volumes, 50% year-over-year) \n",
      "10. (Coinbase, transaction revenues, 66% year-over-year) \n",
      "11. (Coinbase, trading revenue, $365.9 million to $322.1 million)\n"
     ]
    }
   ],
   "source": [
    "triples_prompt = PromptTemplate(input_variables=['facts'], template = 'Take the following list of facts and turn them into triples for a knowledge graph:\\n\\n {facts}')\n",
    "\n",
    "triples_chain = LLMChain(llm=llm, prompt = triples_prompt)\n",
    "\n",
    "triples = triples_chain.run(facts)\n",
    "\n",
    "print(triples)"
   ]
  },
  {
   "cell_type": "code",
   "execution_count": 12,
   "metadata": {},
   "outputs": [
    {
     "name": "stdout",
     "output_type": "stream",
     "text": [
      "\n",
      "\n",
      "\u001b[1m> Entering new  chain...\u001b[0m\n",
      "\u001b[36;1m\u001b[1;3m\n",
      "1. Coinbase released its Q4 2022 earnings on Tuesday. \n",
      "2. Coinbase generated $605 million in total revenue in Q4 2022. \n",
      "3. Coinbase lost $557 million in the three-month period on a GAAP basis. \n",
      "4. Wall Street expected Coinbase to report $581.2 million in revenue and earnings per share of -$2.44. \n",
      "5. Coinbase's stock had risen 86% year-to-date before its Q4 earnings were released. \n",
      "6. Consumer trading volumes fell from $26 billion in the third quarter of last year to $20 billion in Q4. \n",
      "7. Institutional volumes across the same timeframe fell from $133 billion to $125 billion. \n",
      "8. The overall crypto market capitalization fell about 64%, or $1.5 trillion during 2022. \n",
      "9. Coinbase's total trading volumes and transaction revenues fell 50% and 66% year-over-year, respectively. \n",
      "10. Trading revenue at Coinbase fell in Q4 compared to the third quarter of last year, dipping from $365.9 million to $322.1 million. \n",
      "11. Coinbase's \"subscription and services revenue\" rose from $210.5 million in\u001b[0m\n",
      "\u001b[33;1m\u001b[1;3m Q3 to $282.9 million in Q4.\n",
      "\n",
      "Coinbase released its Q4 2022 earnings on Tuesday, reporting total revenue of $605 million and a GAAP loss of $557 million. Wall Street had expected Coinbase to report $581.2 million in revenue and earnings per share of -$2.44. Despite the losses, Coinbase's stock had risen 86% year-to-date before its Q4 earnings were released. Consumer trading volumes fell from $26 billion in the third quarter of last year to $20 billion in Q4, while institutional volumes across the same timeframe fell from $133 billion to $125 billion. The overall crypto market capitalization fell about 64%, or $1.5 trillion during 2022, leading to a 50% and 66% year-over-year decrease in Coinbase's total trading volumes and transaction revenues, respectively. Trading revenue at Coinbase fell in Q4 compared to the third quarter of last year, dipping from $365.9 million to $322.1 million. However, Coinbase's \"subscription and services revenue\" rose from $210.5 million in Q3 to $282.9 million in Q4.\u001b[0m\n",
      "\n",
      "\u001b[1m> Finished chain.\u001b[0m\n",
      " Q3 to $282.9 million in Q4.\n",
      "\n",
      "Coinbase released its Q4 2022 earnings on Tuesday, reporting total revenue of $605 million and a GAAP loss of $557 million. Wall Street had expected Coinbase to report $581.2 million in revenue and earnings per share of -$2.44. Despite the losses, Coinbase's stock had risen 86% year-to-date before its Q4 earnings were released. Consumer trading volumes fell from $26 billion in the third quarter of last year to $20 billion in Q4, while institutional volumes across the same timeframe fell from $133 billion to $125 billion. The overall crypto market capitalization fell about 64%, or $1.5 trillion during 2022, leading to a 50% and 66% year-over-year decrease in Coinbase's total trading volumes and transaction revenues, respectively. Trading revenue at Coinbase fell in Q4 compared to the third quarter of last year, dipping from $365.9 million to $322.1 million. However, Coinbase's \"subscription and services revenue\" rose from $210.5 million in Q3 to $282.9 million in Q4.\n"
     ]
    }
   ],
   "source": [
    "from langchain.chains import SimpleSequentialChain, SequentialChain\n",
    "\n",
    "full_chain = SimpleSequentialChain(chains = [fact_extraction_chain, investor_update_chain], verbose = True)\n",
    "\n",
    "response = full_chain.run(article)\n",
    "print(response)"
   ]
  },
  {
   "cell_type": "code",
   "execution_count": 19,
   "metadata": {},
   "outputs": [
    {
     "name": "stdout",
     "output_type": "stream",
     "text": [
      "\n",
      "\n",
      "\u001b[1m> Entering new  chain...\u001b[0m\n"
     ]
    },
    {
     "name": "stderr",
     "output_type": "stream",
     "text": [
      "c:\\Users\\User\\AppData\\Local\\Programs\\Python\\Python311\\Lib\\site-packages\\langchain\\llms\\openai.py:173: UserWarning: You are trying to use a chat model. This way of initializing it is no longer supported. Instead, please use: `from langchain.chat_models import ChatOpenAI`\n",
      "  warnings.warn(\n",
      "c:\\Users\\User\\AppData\\Local\\Programs\\Python\\Python311\\Lib\\site-packages\\langchain\\llms\\openai.py:753: UserWarning: You are trying to use a chat model. This way of initializing it is no longer supported. Instead, please use: `from langchain.chat_models import ChatOpenAI`\n",
      "  warnings.warn(\n"
     ]
    },
    {
     "name": "stdout",
     "output_type": "stream",
     "text": [
      "\u001b[32;1m\u001b[1;3mdef solution():\n",
      "    \"\"\"Jan has three times the number of pets as Marcia. Marcia has two more pets than Cindy. If Cindy has four pets, how many total pets do the three have?\"\"\"\n",
      "    cindy_pets = 4\n",
      "    marcia_pets = cindy_pets + 2\n",
      "    jan_pets = marcia_pets * 3\n",
      "    total_pets = cindy_pets + marcia_pets + jan_pets\n",
      "    result = total_pets\n",
      "    return result\u001b[0m\n",
      "\n",
      "\u001b[1m> Finished chain.\u001b[0m\n"
     ]
    },
    {
     "data": {
      "text/plain": [
       "'28'"
      ]
     },
     "execution_count": 19,
     "metadata": {},
     "output_type": "execute_result"
    }
   ],
   "source": [
    "from langchain.chains import PALChain\n",
    "\n",
    "llm = OpenAI(model_name = 'gpt-3.5-turbo', temperature=0, max_tokens = 512)\n",
    "\n",
    "pal_chain = PALChain.from_math_prompt(llm, verbose = True)\n",
    "\n",
    "question = \"Jan has three times the number of pets as Marcia. Marcia has two more pets than Cindy. If Cindy has four pets, how many total pets do the three have?\"\n",
    "question_02= \"The cafeteria had 23 apples. If they used 20 for lunch and bought 6 more, how many apples do they have?\"\n",
    "\n",
    "pal_chain.run(question)"
   ]
  },
  {
   "cell_type": "code",
   "execution_count": 20,
   "metadata": {},
   "outputs": [
    {
     "name": "stdout",
     "output_type": "stream",
     "text": [
      "\n",
      "\n",
      "\u001b[1m> Entering new  chain...\u001b[0m\n",
      "\u001b[32;1m\u001b[1;3mdef solution():\n",
      "    \"\"\"The cafeteria had 23 apples. If they used 20 for lunch and bought 6 more, how many apples do they have?\"\"\"\n",
      "    apples_initial = 23\n",
      "    apples_used = 20\n",
      "    apples_bought = 6\n",
      "    apples_left = apples_initial - apples_used + apples_bought\n",
      "    result = apples_left\n",
      "    return result\u001b[0m\n",
      "\n",
      "\u001b[1m> Finished chain.\u001b[0m\n"
     ]
    },
    {
     "data": {
      "text/plain": [
       "'9'"
      ]
     },
     "execution_count": 20,
     "metadata": {},
     "output_type": "execute_result"
    }
   ],
   "source": [
    "pal_chain.run(question_02)"
   ]
  },
  {
   "cell_type": "code",
   "execution_count": 21,
   "metadata": {},
   "outputs": [
    {
     "name": "stdout",
     "output_type": "stream",
     "text": [
      "\n",
      "\n",
      "\u001b[1m> Entering new  chain...\u001b[0m\n",
      "\u001b[32;1m\u001b[1;3mhttps://api.open-meteo.com/v1/forecast?latitude=47.0056&longitude=28.8577&hourly=temperature_2m&current_weather=true&temperature_unit=celsius\u001b[0m\n",
      "\u001b[33;1m\u001b[1;3m{\"latitude\":47.0,\"longitude\":28.875,\"generationtime_ms\":0.10895729064941406,\"utc_offset_seconds\":0,\"timezone\":\"GMT\",\"timezone_abbreviation\":\"GMT\",\"elevation\":62.0,\"current_weather_units\":{\"time\":\"iso8601\",\"temperature\":\"°C\",\"windspeed\":\"km/h\",\"winddirection\":\"°\",\"is_day\":\"\",\"weathercode\":\"wmo code\"},\"current_weather_interval_seconds\":900,\"current_weather\":{\"time\":\"2023-10-08T08:15\",\"temperature\":18.4,\"windspeed\":11.5,\"winddirection\":309,\"is_day\":1,\"weathercode\":3},\"hourly_units\":{\"time\":\"iso8601\",\"temperature_2m\":\"°C\"},\"hourly\":{\"time\":[\"2023-10-08T00:00\",\"2023-10-08T01:00\",\"2023-10-08T02:00\",\"2023-10-08T03:00\",\"2023-10-08T04:00\",\"2023-10-08T05:00\",\"2023-10-08T06:00\",\"2023-10-08T07:00\",\"2023-10-08T08:00\",\"2023-10-08T09:00\",\"2023-10-08T10:00\",\"2023-10-08T11:00\",\"2023-10-08T12:00\",\"2023-10-08T13:00\",\"2023-10-08T14:00\",\"2023-10-08T15:00\",\"2023-10-08T16:00\",\"2023-10-08T17:00\",\"2023-10-08T18:00\",\"2023-10-08T19:00\",\"2023-10-08T20:00\",\"2023-10-08T21:00\",\"2023-10-08T22:00\",\"2023-10-08T23:00\",\"2023-10-09T00:00\",\"2023-10-09T01:00\",\"2023-10-09T02:00\",\"2023-10-09T03:00\",\"2023-10-09T04:00\",\"2023-10-09T05:00\",\"2023-10-09T06:00\",\"2023-10-09T07:00\",\"2023-10-09T08:00\",\"2023-10-09T09:00\",\"2023-10-09T10:00\",\"2023-10-09T11:00\",\"2023-10-09T12:00\",\"2023-10-09T13:00\",\"2023-10-09T14:00\",\"2023-10-09T15:00\",\"2023-10-09T16:00\",\"2023-10-09T17:00\",\"2023-10-09T18:00\",\"2023-10-09T19:00\",\"2023-10-09T20:00\",\"2023-10-09T21:00\",\"2023-10-09T22:00\",\"2023-10-09T23:00\",\"2023-10-10T00:00\",\"2023-10-10T01:00\",\"2023-10-10T02:00\",\"2023-10-10T03:00\",\"2023-10-10T04:00\",\"2023-10-10T05:00\",\"2023-10-10T06:00\",\"2023-10-10T07:00\",\"2023-10-10T08:00\",\"2023-10-10T09:00\",\"2023-10-10T10:00\",\"2023-10-10T11:00\",\"2023-10-10T12:00\",\"2023-10-10T13:00\",\"2023-10-10T14:00\",\"2023-10-10T15:00\",\"2023-10-10T16:00\",\"2023-10-10T17:00\",\"2023-10-10T18:00\",\"2023-10-10T19:00\",\"2023-10-10T20:00\",\"2023-10-10T21:00\",\"2023-10-10T22:00\",\"2023-10-10T23:00\",\"2023-10-11T00:00\",\"2023-10-11T01:00\",\"2023-10-11T02:00\",\"2023-10-11T03:00\",\"2023-10-11T04:00\",\"2023-10-11T05:00\",\"2023-10-11T06:00\",\"2023-10-11T07:00\",\"2023-10-11T08:00\",\"2023-10-11T09:00\",\"2023-10-11T10:00\",\"2023-10-11T11:00\",\"2023-10-11T12:00\",\"2023-10-11T13:00\",\"2023-10-11T14:00\",\"2023-10-11T15:00\",\"2023-10-11T16:00\",\"2023-10-11T17:00\",\"2023-10-11T18:00\",\"2023-10-11T19:00\",\"2023-10-11T20:00\",\"2023-10-11T21:00\",\"2023-10-11T22:00\",\"2023-10-11T23:00\",\"2023-10-12T00:00\",\"2023-10-12T01:00\",\"2023-10-12T02:00\",\"2023-10-12T03:00\",\"2023-10-12T04:00\",\"2023-10-12T05:00\",\"2023-10-12T06:00\",\"2023-10-12T07:00\",\"2023-10-12T08:00\",\"2023-10-12T09:00\",\"2023-10-12T10:00\",\"2023-10-12T11:00\",\"2023-10-12T12:00\",\"2023-10-12T13:00\",\"2023-10-12T14:00\",\"2023-10-12T15:00\",\"2023-10-12T16:00\",\"2023-10-12T17:00\",\"2023-10-12T18:00\",\"2023-10-12T19:00\",\"2023-10-12T20:00\",\"2023-10-12T21:00\",\"2023-10-12T22:00\",\"2023-10-12T23:00\",\"2023-10-13T00:00\",\"2023-10-13T01:00\",\"2023-10-13T02:00\",\"2023-10-13T03:00\",\"2023-10-13T04:00\",\"2023-10-13T05:00\",\"2023-10-13T06:00\",\"2023-10-13T07:00\",\"2023-10-13T08:00\",\"2023-10-13T09:00\",\"2023-10-13T10:00\",\"2023-10-13T11:00\",\"2023-10-13T12:00\",\"2023-10-13T13:00\",\"2023-10-13T14:00\",\"2023-10-13T15:00\",\"2023-10-13T16:00\",\"2023-10-13T17:00\",\"2023-10-13T18:00\",\"2023-10-13T19:00\",\"2023-10-13T20:00\",\"2023-10-13T21:00\",\"2023-10-13T22:00\",\"2023-10-13T23:00\",\"2023-10-14T00:00\",\"2023-10-14T01:00\",\"2023-10-14T02:00\",\"2023-10-14T03:00\",\"2023-10-14T04:00\",\"2023-10-14T05:00\",\"2023-10-14T06:00\",\"2023-10-14T07:00\",\"2023-10-14T08:00\",\"2023-10-14T09:00\",\"2023-10-14T10:00\",\"2023-10-14T11:00\",\"2023-10-14T12:00\",\"2023-10-14T13:00\",\"2023-10-14T14:00\",\"2023-10-14T15:00\",\"2023-10-14T16:00\",\"2023-10-14T17:00\",\"2023-10-14T18:00\",\"2023-10-14T19:00\",\"2023-10-14T20:00\",\"2023-10-14T21:00\",\"2023-10-14T22:00\",\"2023-10-14T23:00\"],\"temperature_2m\":[16.4,16.6,16.8,16.7,16.5,16.5,16.9,17.9,19.2,14.7,12.0,10.9,9.7,10.1,10.4,10.2,9.4,8.8,8.6,9.1,9.3,8.4,7.6,7.1,6.7,6.2,5.8,5.4,5.0,4.9,6.3,8.0,9.5,11.0,12.1,13.1,13.1,12.9,12.3,11.7,10.8,10.2,9.6,8.9,8.6,8.4,8.3,8.2,7.9,7.2,7.1,6.6,5.9,5.3,6.9,8.9,10.6,11.7,12.5,13.1,13.4,13.4,13.0,12.0,10.1,8.8,7.8,6.6,5.5,4.6,4.0,3.3,2.8,2.9,3.0,3.2,3.1,3.0,5.3,8.2,12.0,15.0,16.7,17.7,18.2,18.1,17.6,16.8,15.6,14.1,12.9,12.2,11.8,11.5,11.2,10.9,10.7,10.3,9.9,9.8,9.9,10.2,11.2,13.5,16.4,19.0,20.8,22.1,22.8,22.8,22.1,21.1,19.9,18.4,17.1,16.5,16.1,15.6,14.7,13.7,13.0,11.3,10.3,9.9,10.3,11.3,12.5,13.8,15.2,16.7,18.4,20.2,21.3,21.3,20.6,19.7,18.5,17.0,15.7,14.7,13.9,13.4,13.6,14.2,14.6,14.5,14.2,14.1,14.1,14.2,15.3,18.3,22.3,25.5,27.3,28.2,28.6,28.2,27.3,25.9,24.1,22.0,20.1,18.7,17.5,16.4,15.4,14.6]}}\u001b[0m\n",
      "\n",
      "\u001b[1m> Finished chain.\u001b[0m\n"
     ]
    },
    {
     "data": {
      "text/plain": [
       "' The temperature right now in Chisinau, Moldova is 18.4°C.'"
      ]
     },
     "execution_count": 21,
     "metadata": {},
     "output_type": "execute_result"
    }
   ],
   "source": [
    "from langchain import OpenAI\n",
    "from langchain.chains.api.prompt import API_RESPONSE_PROMPT\n",
    "from langchain.chains import APIChain\n",
    "from langchain.prompts.prompt import PromptTemplate\n",
    "\n",
    "llm = OpenAI(temperature=0, max_tokens = 100)\n",
    "\n",
    "from langchain.chains.api import open_meteo_docs\n",
    "chain_new = APIChain.from_llm_and_api_docs(llm, open_meteo_docs.OPEN_METEO_DOCS, verbose=True)\n",
    "\n",
    "chain_new.run('What is the temperature like right now in Chisinau, Moldova in degrees Celsius?')"
   ]
  },
  {
   "cell_type": "code",
   "execution_count": null,
   "metadata": {},
   "outputs": [],
   "source": []
  },
  {
   "cell_type": "code",
   "execution_count": null,
   "metadata": {},
   "outputs": [],
   "source": []
  }
 ],
 "metadata": {
  "kernelspec": {
   "display_name": "Python 3",
   "language": "python",
   "name": "python3"
  },
  "language_info": {
   "codemirror_mode": {
    "name": "ipython",
    "version": 3
   },
   "file_extension": ".py",
   "mimetype": "text/x-python",
   "name": "python",
   "nbconvert_exporter": "python",
   "pygments_lexer": "ipython3",
   "version": "3.11.4"
  },
  "orig_nbformat": 4
 },
 "nbformat": 4,
 "nbformat_minor": 2
}
