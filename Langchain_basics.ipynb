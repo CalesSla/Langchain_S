{
 "cells": [
  {
   "cell_type": "code",
   "execution_count": 26,
   "metadata": {},
   "outputs": [],
   "source": [
    "import os\n",
    "import os\n",
    "from dotenv import load_dotenv, find_dotenv\n",
    "import openai\n",
    "load_dotenv(find_dotenv(), override=True)\n",
    "openai.api_key = os.getenv(\"OPENAI_API_KEY\")\n"
   ]
  },
  {
   "cell_type": "code",
   "execution_count": 36,
   "metadata": {},
   "outputs": [
    {
     "name": "stdout",
     "output_type": "stream",
     "text": [
      "To get to the other side.\n"
     ]
    }
   ],
   "source": [
    "from langchain.llms import OpenAI\n",
    "from langchain.chat_models import ChatOpenAI\n",
    "from langchain.prompts.chat import HumanMessagePromptTemplate\n",
    "from langchain.schema import HumanMessage\n",
    "\n",
    "llm = ChatOpenAI(model_name = 'gpt-3.5-turbo',\n",
    "             temperature=0,\n",
    "             max_tokens=256)\n",
    "\n",
    "text = \"Why did the chicken cross the road?\"\n",
    "result = llm([HumanMessage(content=text)])\n",
    "print(result.content)"
   ]
  },
  {
   "cell_type": "code",
   "execution_count": 39,
   "metadata": {},
   "outputs": [
    {
     "name": "stdout",
     "output_type": "stream",
     "text": [
      "1. Rockin' Cafe\n",
      "2. Hard Rock Bistro\n",
      "3. Amped Up Cafe\n",
      "4. Rock n' Roll Diner\n",
      "5. The Rock Cafe\n",
      "6. Rockstar Bites\n",
      "7. Hard Rock Junction\n",
      "8. Cafe Riff\n",
      "9. Rockin' Rollers\n",
      "10. The Rockin' Bean\n"
     ]
    }
   ],
   "source": [
    "from langchain import PromptTemplate\n",
    "\n",
    "restautant_template = \"\"\"\n",
    "I want you to act as a naming consultant for new restaurants.\n",
    "\n",
    "Return a list of restaurant names. Each name should be short, catchy and easy to remember. It shoult relate the type of restaurant you are naming.\n",
    "\n",
    "What are some good names for a restaurant that is {restaurant_description}?\n",
    "\"\"\"\n",
    "\n",
    "prompt_template = PromptTemplate(input_variables=['restaurant_description'], template=restautant_template)\n",
    "\n",
    "description1 = 'A Greek place that serves fresh lamb souvlakis and other Greek '\n",
    "description2 = \"a burger place that is themed with baseball memorabilia\"\n",
    "description3 = 'a cafe that has live hard rock music and memorabilia'\n",
    "\n",
    "# prompt_template.format(restautant_template=description1)\n",
    "\n",
    "from langchain.chains import LLMChain\n",
    "\n",
    "chain = LLMChain(llm=llm, prompt=prompt_template)\n",
    "print(chain.run(description3))"
   ]
  },
  {
   "cell_type": "code",
   "execution_count": 42,
   "metadata": {},
   "outputs": [
    {
     "name": "stdout",
     "output_type": "stream",
     "text": [
      "small\n"
     ]
    }
   ],
   "source": [
    "from langchain import PromptTemplate, FewShotPromptTemplate\n",
    "\n",
    "examples = [{'word': 'happy', 'antonym': 'sad'},\n",
    "            {'word': 'tall', 'antonym': 'short'}\n",
    "            ]\n",
    "\n",
    "example_formatter_template = \"\"\"\n",
    "Word: {word}\n",
    "Antonym: {antonym}\\n\n",
    "\"\"\"\n",
    "\n",
    "example_prompt = PromptTemplate(input_variables=['word', 'antonym'], template = example_formatter_template)\n",
    "\n",
    "few_shot_prompt = FewShotPromptTemplate(examples = examples,\n",
    "                                        example_prompt = example_prompt,\n",
    "                                        prefix = 'Give the antonym of every input',\n",
    "                                        suffix = 'Word: {input}\\nAntonym: ',\n",
    "                                        input_variables=['input'],\n",
    "                                        example_separator='\\n\\n')\n",
    "\n",
    "# print(few_shot_prompt.format(input = 'big'))\n",
    "\n",
    "from langchain.chains import LLMChain\n",
    "chain = LLMChain(llm = llm, prompt = few_shot_prompt)\n",
    "\n",
    "print(chain.run('Big'))"
   ]
  },
  {
   "cell_type": "code",
   "execution_count": null,
   "metadata": {},
   "outputs": [],
   "source": [
    " "
   ]
  }
 ],
 "metadata": {
  "kernelspec": {
   "display_name": "Python 3",
   "language": "python",
   "name": "python3"
  },
  "language_info": {
   "codemirror_mode": {
    "name": "ipython",
    "version": 3
   },
   "file_extension": ".py",
   "mimetype": "text/x-python",
   "name": "python",
   "nbconvert_exporter": "python",
   "pygments_lexer": "ipython3",
   "version": "3.11.4"
  },
  "orig_nbformat": 4
 },
 "nbformat": 4,
 "nbformat_minor": 2
}
